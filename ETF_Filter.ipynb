{
 "cells": [
  {
   "cell_type": "code",
   "execution_count": 1,
   "id": "48c38af6-467d-4d69-b0b3-79db96352fb2",
   "metadata": {},
   "outputs": [],
   "source": [
    "class ETF_Filter:\n",
    "\n",
    "    def __init__(self, etfs, tickers, start, end):\n",
    "\n",
    "        self.start = start\n",
    "\n",
    "        self.end = end\n",
    "\n",
    "        self.tickers = sorted(tickers)\n",
    "        \n",
    "        self.etfs = sorted(etfs)\n",
    "        \n",
    "        self.df = yf.download(self.tickers + self.etfs, self.start, self.end)['Adj Close'].dropna()\n",
    "        \n",
    "        self.etf_filtration = self.df[self.etfs].copy()\n",
    "\n",
    "        self.ticker_filtration = self.df[self.tickers].copy()\n",
    "\n",
    "        self.pairs = []\n",
    "\n",
    "        for i in range(len(self.etfs)):\n",
    "            for j in range(len(self.tickers)):\n",
    "                self.pairs.append((self.etfs[i],self.tickers[j]))\n",
    "                \n",
    "    def TopologicalEmbedding(self, tol=100, lagtime=1):\n",
    "        \n",
    "        \n",
    "        topo = Tembedding(self.df)\n",
    "        \n",
    "        for pair in self.pairs:\n",
    "            resultado = topo.hausdorff(pair[0], pair[1])\n",
    "            if resultado > tol:\n",
    "                self.pairs.remove(pair)\n",
    "            \n",
    "        self.__filter_data()\n",
    "\n",
    "\n",
    "    def correlationTest(self, tol = 0.9):\n",
    "         \n",
    "\n",
    "        for pair in self.pairs:\n",
    "                        \n",
    "            resultado = np.corrcoef(self.etf_filtration[pair[0]],self.ticker_filtration[pair[1]])[0,1]\n",
    "                \n",
    "                \n",
    "            if resultado < tol:\n",
    "\n",
    "                self.pairs.remove(pair)\n",
    "            \n",
    "        self.__filter_data()\n",
    "\n",
    "\n",
    "\n",
    "    def cointegration(self, tol=0.1):\n",
    "\n",
    "        for pair in self.pairs:\n",
    "\n",
    "                resultado = coint(self.etf_filtration[pair[0]],self.ticker_filtration[pair[1]])[1]\n",
    "\n",
    "                if resultado > tol:\n",
    "\n",
    "                    self.pairs.remove(pair)\n",
    "                    \n",
    "        self.__filter_data()\n",
    "        \n",
    "    \n",
    "    def distance_correlationTest(self, tol=0.3):\n",
    "        \n",
    "        for pair in self.pairs:\n",
    "            \n",
    "            resultado = correlation_distance(self.etf_filtration[pair[0]],self.ticker_filtration[pair[1]])\n",
    "            \n",
    "            if resultado > tol:\n",
    "                self.pairs.remove(pair)\n",
    "                \n",
    "        self.__filter_data()\n",
    "   \n",
    "                \n",
    "\n",
    "\n",
    "    def variationalInformationTest(self, bins = 50, tol = 3.0):\n",
    "    \n",
    "        for pair in self.pairs:\n",
    "\n",
    "            resultado = varInfo(self.etf_filtration[pair[0]],self.ticker_filtration[pair[1]], bins = bins)\n",
    "\n",
    "            if resultado > tol:\n",
    "\n",
    "                self.pairs.remove(pair)\n",
    "                \n",
    "        self.__filter_data()\n",
    "\n",
    "    \n",
    "    def clear_filter(self):\n",
    "\n",
    "        self.pairs = []\n",
    "        self.etf_filtration = self.df[self.etfs].copy()\n",
    "        self.ticker_filtration = self.df[self.tickers].copy()\n",
    "\n",
    "        for i in range(len(self.etfs)):\n",
    "            for j in range(len(self.tickers)):\n",
    "                self.pairs.append((self.etfs[i],self.tickers[j]))\n",
    "            \n",
    "  \n",
    "    def __filter_data(self):\n",
    "    \n",
    "        unique_tickers = []\n",
    "        unique_etfs = []\n",
    "        \n",
    "        for pair in self.pairs:\n",
    "            if pair[0] not in unique_etfs:\n",
    "                unique_etfs.append(pair[0])\n",
    "            if pair[1] not in unique_tickers:\n",
    "                unique_tickers.append(pair[1])\n",
    "        \n",
    "        self.ticker_filtration = self.ticker_filtration[unique_tickers]\n",
    "        self.etf_filtration = self.etf_filtration[unique_etfs]"
   ]
  },
  {
   "cell_type": "code",
   "execution_count": 2,
   "id": "dec8640b-2a70-4d06-85b6-04bcb016aed1",
   "metadata": {},
   "outputs": [],
   "source": [
    "import numpy as np\n",
    "\n",
    "import pandas as pd\n",
    "from statsmodels.tsa.stattools import coint\n",
    "import matplotlib.pyplot as plt\n",
    "import yfinance as yf\n",
    "import datetime\n",
    "import seaborn as sns\n",
    "from scipy.stats import entropy\n",
    "from sklearn.metrics import mutual_info_score\n",
    "from Topological_Embedding import Tembedding"
   ]
  },
  {
   "cell_type": "code",
   "execution_count": 3,
   "id": "a35498db-8977-49b6-9f7c-e19350c7c014",
   "metadata": {},
   "outputs": [],
   "source": [
    "etfs = list(pd.read_csv('ETFs_lIST.csv', index_col = [0]).columns)"
   ]
  },
  {
   "cell_type": "code",
   "execution_count": 8,
   "id": "ab940da5-9502-4e3c-85b4-93d301fc6b63",
   "metadata": {},
   "outputs": [],
   "source": [
    "start = datetime.date.today()-datetime.timedelta(days=45)\n",
    "end = datetime.date.today()\n",
    "\n",
    "tickers = ['ATVI', 'ADBE', 'AMD', 'ALGN', 'GOOG', 'GOOGL', 'AMZN', 'AMGN', 'ADI', 'AAPL', 'AMAT', 'ASML', 'ADSK',\n",
    "    'ADP','BIDU', 'BIIB', 'BMRN', 'BKNG', 'AVGO', 'CDNS', 'CDW', 'CERN', 'CHTR', 'CHKP', 'CTAS', 'CSCO', \n",
    "    'CTXS', 'CTSH', 'CMCSA', 'CPRT', 'COST', 'CSX', 'DXCM' ,'DOCU' ,'DLTR' ,'EBAY', 'EA' ,'EXC','EXPE','FB', \n",
    "    'FAST', 'FISV', 'FOX', 'FOXA', 'GILD', 'IDXX', 'ILMN', 'INCY', 'INTC', 'INTU', 'ISRG',\n",
    "    'JD', 'KLAC', 'LRCX', 'LBTYA', 'LULU', 'MAR', 'MELI', 'MCHP', 'MU', 'MSFT','MRNA', 'MDLZ', 'MNST', 'NTES', \n",
    "    'NFLX' ,'NVDA', 'NXPI', 'ORLY', 'PCAR', 'PAYX', 'PYPL', 'PEP', 'PDD', 'QCOM', 'REGN', 'ROST',\n",
    "    'SGEN', 'SIRI', 'SWKS', 'SPLK', 'SBUX', 'SNPS', 'TMUS', 'TTWO','TSLA', 'TXN', 'KHC', 'TCOM', \n",
    "    'ULTA', 'VRSN', 'VRSK', 'VRTX', 'WBA', 'WDC', 'WDAY', 'XEL', 'ZM']\n"
   ]
  },
  {
   "cell_type": "code",
   "execution_count": 6,
   "id": "5e233063-0aa4-4359-9e47-91ba453e5e76",
   "metadata": {},
   "outputs": [],
   "source": [
    "\n",
    "'''  \n",
    "X <- Serie de tiempo de Ticker 1\n",
    "Y <- Serie de tiempo de Ticker 2\n",
    "'''\n",
    "\n",
    "def correlation_distance(X, Y):\n",
    "    cor = np.corrcoef(X,Y)[0,1]\n",
    "    metrica = np.sqrt(0.5*(1-cor))\n",
    "    return metrica\n",
    "\n",
    "'''  \n",
    "X <- Serie de tiempo de Ticker 1\n",
    "Y <- Serie de tiempo de Ticker 2\n",
    "bins <- Tamaño partición\n",
    "norm <- boolean False si las series no están normalizadas\n",
    "'''\n",
    "#---------------------------------------------------\n",
    "def varInfo(X,Y,bins,norm=False):\n",
    "    # variation of information\n",
    "    cXY=np.histogram2d(X,Y,bins)[0]\n",
    "    iXY=mutual_info_score(None,None,contingency=cXY)\n",
    "    hX=entropy(np.histogram(X,bins)[0]) # marginal\n",
    "    hY=entropy(np.histogram(Y,bins)[0]) # marginal\n",
    "    vXY=hX+hY-2*iXY # variation of information\n",
    "    if norm:\n",
    "        hXY=hX+hY-iXY # joint\n",
    "        vXY/=hXY # normalized variation of information\n",
    "    return vXY"
   ]
  },
  {
   "cell_type": "code",
   "execution_count": 9,
   "id": "a62fa47d-50e0-4e43-8ad7-3b5a7b99252b",
   "metadata": {},
   "outputs": [
    {
     "name": "stdout",
     "output_type": "stream",
     "text": [
      "[*********************100%***********************]  1098 of 1098 completed\n"
     ]
    }
   ],
   "source": [
    "modelo = ETF_Filter(etfs, tickers, start, end)"
   ]
  },
  {
   "cell_type": "code",
   "execution_count": 187,
   "id": "b2ced3ad-4128-4a9b-8058-e1b7fcfa9e8e",
   "metadata": {},
   "outputs": [],
   "source": [
    "modelo.variationalInformationTest(tol = 0.3, bins = 30)\n"
   ]
  },
  {
   "cell_type": "code",
   "execution_count": 188,
   "id": "d6c0f776-63c8-41ba-9530-8e0cb8cafdab",
   "metadata": {},
   "outputs": [],
   "source": [
    "modelo. distance_correlationTest(tol = 0.3)\n"
   ]
  },
  {
   "cell_type": "code",
   "execution_count": 189,
   "id": "8d76f004-fa5f-4a5f-acf1-5a89a25384bd",
   "metadata": {},
   "outputs": [],
   "source": [
    "\n",
    "\n",
    "modelo.TopologicalEmbedding(tol=120)\n"
   ]
  },
  {
   "cell_type": "code",
   "execution_count": null,
   "id": "7e35113c-c65d-4a3f-ad65-885357e5ff80",
   "metadata": {},
   "outputs": [],
   "source": [
    "modelo.cointegration(tol=0.4)\n"
   ]
  },
  {
   "cell_type": "code",
   "execution_count": 121,
   "id": "8e514a42-4967-43f8-97cf-fd20e056c956",
   "metadata": {},
   "outputs": [],
   "source": [
    "#modelo.clear_filter()"
   ]
  },
  {
   "cell_type": "code",
   "execution_count": 179,
   "id": "cddb3b74-3981-4910-bcf5-2ba1513210c2",
   "metadata": {},
   "outputs": [],
   "source": [
    "df_pairs = pd.DataFrame(modelo.pairs, columns=['ETF', 'Ticker']).set_index('ETF')\n",
    "\n",
    "df_EBAY = df_pairs.query(\"Ticker == 'EBAY'\")\n",
    "df_WBA = df_pairs.query(\"Ticker == 'WBA'\")\n",
    "\n",
    "#df = df_pairs.groupby(level=0).transform(lambda x: ','.join(x))\n",
    "#df"
   ]
  },
  {
   "cell_type": "code",
   "execution_count": 180,
   "id": "28c86099-2272-4dc7-9ee9-27a340393917",
   "metadata": {},
   "outputs": [
    {
     "data": {
      "text/plain": [
       "Index(['AOM', 'DEW', 'FAS', 'FREL', 'GAA', 'IDHQ', 'IOO', 'IWX', 'LTL', 'MGV',\n",
       "       'PGX', 'PHDG', 'REM', 'SCHH', 'SHYG', 'SJNK', 'SPGP', 'VNQ', 'XLF',\n",
       "       'XNTK'],\n",
       "      dtype='object', name='ETF')"
      ]
     },
     "execution_count": 180,
     "metadata": {},
     "output_type": "execute_result"
    }
   ],
   "source": [
    "pd.merge(df_EBAY, df_WBA, right_index = True, left_index = True).index"
   ]
  },
  {
   "cell_type": "code",
   "execution_count": 421,
   "id": "15ec4977-27e2-4a39-96ce-429c45df0b53",
   "metadata": {},
   "outputs": [],
   "source": [
    "import matplotlib.pyplot as plt"
   ]
  },
  {
   "cell_type": "code",
   "execution_count": 185,
   "id": "f66ef639-7365-4e89-a7cf-2bf5385aa505",
   "metadata": {},
   "outputs": [
    {
     "data": {
      "text/plain": [
       "[<matplotlib.lines.Line2D at 0x27ba0cf1b20>]"
      ]
     },
     "execution_count": 185,
     "metadata": {},
     "output_type": "execute_result"
    },
    {
     "data": {
      "image/png": "[encoded data removed]",
      "text/plain": [
       "<Figure size 720x720 with 1 Axes>"
      ]
     },
     "metadata": {
      "needs_background": "light"
     },
     "output_type": "display_data"
    }
   ],
   "source": [
    "A = \"EBAY\"\n",
    "B = \"WBA\"\n",
    "C = \"REM\"\n",
    "\n",
    "plt.figure(figsize=(10,10))\n",
    "plt.plot(modelo.df[A], c= 'orange')\n",
    "plt.plot(modelo.df[B], c='blue')\n",
    "plt.plot(modelo.df[C], c='black')"
   ]
  },
  {
   "cell_type": "code",
   "execution_count": 186,
   "id": "67a03f7a-c3c7-4bf6-9fdc-80b51e8bfbe7",
   "metadata": {},
   "outputs": [
    {
     "data": {
      "text/plain": [
       "[<matplotlib.lines.Line2D at 0x27ba0dc9a60>]"
      ]
     },
     "execution_count": 186,
     "metadata": {},
     "output_type": "execute_result"
    },
    {
     "data": {
      "image/png": "[encoded data removed]",
      "text/plain": [
       "<Figure size 720x720 with 1 Axes>"
      ]
     },
     "metadata": {
      "needs_background": "light"
     },
     "output_type": "display_data"
    }
   ],
   "source": [
    "plt.figure(figsize=(10,10))\n",
    "plt.plot((modelo.df[A]-np.min(modelo.df[A]))/(np.max(modelo.df[A]) - np.min(modelo.df[A])), c='orange')\n",
    "plt.plot((modelo.df[B]-np.min(modelo.df[B]))/(np.max(modelo.df[B]) - np.min(modelo.df[B])), c=\"blue\")\n",
    "plt.plot((modelo.df[C]-np.min(modelo.df[C]))/(np.max(modelo.df[C]) - np.min(modelo.df[C])), c=\"black\")\n"
   ]
  },
  {
   "cell_type": "code",
   "execution_count": null,
   "id": "5b3711a3-13ce-4ed6-8f85-42f7bdbdf112",
   "metadata": {},
   "outputs": [],
   "source": []
  }
 ],
 "metadata": {
  "kernelspec": {
   "display_name": "Python 3 (ipykernel)",
   "language": "python",
   "name": "python3"
  },
  "language_info": {
   "codemirror_mode": {
    "name": "ipython",
    "version": 3
   },
   "file_extension": ".py",
   "mimetype": "text/x-python",
   "name": "python",
   "nbconvert_exporter": "python",
   "pygments_lexer": "ipython3",
   "version": "3.8.5"
  }
 },
 "nbformat": 4,
 "nbformat_minor": 5
}
