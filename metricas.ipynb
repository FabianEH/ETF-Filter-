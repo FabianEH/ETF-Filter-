{
 "cells": [
  {
   "cell_type": "code",
   "execution_count": 58,
   "metadata": {},
   "outputs": [],
   "source": [
    "import numpy as np\n",
    "from scipy.stats import entropy\n",
    "from sklearn.metrics import mutual_info_score\n",
    "import pandas as pd\n",
    "from statsmodels.tsa.stattools import coint\n",
    "import matplotlib.pyplot as plt"
   ]
  },
  {
   "cell_type": "code",
   "execution_count": 183,
   "metadata": {},
   "outputs": [],
   "source": [
    "'''  \n",
    "X <- Serie de tiempo de Ticker 1\n",
    "Y <- Serie de tiempo de Ticker 2\n",
    "'''\n",
    "def distancia_correlacion(X, Y):\n",
    "    cor = np.corrcoef(X,Y)[0,1]\n",
    "    metrica = np.sqrt(0.5*(1-cor))\n",
    "    return metrica"
   ]
  },
  {
   "cell_type": "code",
   "execution_count": 184,
   "metadata": {},
   "outputs": [],
   "source": [
    "def distancia_correlacion(df):\n",
    "    cor = df.corr()\n",
    "    metrica = np.sqrt(0.5*(1-cor))\n",
    "    return metrica"
   ]
  },
  {
   "cell_type": "code",
   "execution_count": 17,
   "metadata": {},
   "outputs": [],
   "source": [
    "'''  \n",
    "X <- Serie de tiempo de Ticker 1\n",
    "Y <- Serie de tiempo de Ticker 2\n",
    "bins <- Tamaño partición\n",
    "norm <- boolean False si las series no están normalizadas\n",
    "'''\n",
    "#---------------------------------------------------\n",
    "def varInfo(X,Y,bins,norm=False):\n",
    "    # variation of information\n",
    "    cXY=np.histogram2d(X,Y,bins)[0]\n",
    "    iXY=mutual_info_score(None,None,contingency=cXY)\n",
    "    hX=entropy(np.histogram(X,bins)[0]) # marginal\n",
    "    hY=entropy(np.histogram(Y,bins)[0]) # marginal\n",
    "    vXY=hX+hY-2*iXY # variation of information\n",
    "    if norm:\n",
    "        hXY=hX+hY-iXY # joint\n",
    "        vXY/=hXY # normalized variation of information\n",
    "    return vXY"
   ]
  },
  {
   "cell_type": "markdown",
   "metadata": {},
   "source": [
    "# Leemos Tickers"
   ]
  },
  {
   "cell_type": "code",
   "execution_count": 5,
   "metadata": {},
   "outputs": [],
   "source": [
    "import yfinance as yf\n",
    "import datetime\n",
    "import seaborn as sns"
   ]
  },
  {
   "cell_type": "code",
   "execution_count": 29,
   "metadata": {},
   "outputs": [
    {
     "name": "stdout",
     "output_type": "stream",
     "text": [
      "[*********************100%***********************]  98 of 98 completed\n"
     ]
    }
   ],
   "source": [
    "start = datetime.datetime(2018, 1, 1)\n",
    "end = datetime.datetime(2022, 1, 1)\n",
    "tickers =  ['ATVI', 'ADBE', 'AMD', 'ALGN', 'GOOG', 'GOOGL', 'AMZN', 'AMGN', 'ADI', 'AAPL', 'AMAT', 'ASML', 'ADSK',\n",
    "    'ADP','BIDU', 'BIIB', 'BMRN', 'BKNG', 'AVGO', 'CDNS', 'CDW', 'CERN', 'CHTR', 'CHKP', 'CTAS', 'CSCO', \n",
    "    'CTXS', 'CTSH', 'CMCSA', 'CPRT', 'COST', 'CSX', 'DXCM' ,'DOCU' ,'DLTR' ,'EBAY', 'EA' ,'EXC','EXPE','FB', \n",
    "    'FAST', 'FISV', 'FOX', 'FOXA', 'GILD', 'IDXX', 'ILMN', 'INCY', 'INTC', 'INTU', 'ISRG',\n",
    "    'JD', 'KLAC', 'LRCX', 'LBTYA', 'LULU', 'MAR', 'MELI', 'MCHP', 'MU', 'MSFT','MRNA', 'MDLZ', 'MNST', 'NTES', \n",
    "    'NFLX' ,'NVDA', 'NXPI', 'ORLY', 'PCAR', 'PAYX', 'PYPL', 'PEP', 'PDD', 'QCOM', 'REGN', 'ROST',\n",
    "    'SGEN', 'SIRI', 'SWKS', 'SPLK', 'SBUX', 'SNPS', 'TMUS', 'TTWO','TSLA', 'TXN', 'KHC', 'TCOM', \n",
    "    'ULTA', 'VRSN', 'VRSK', 'VRTX', 'WBA', 'WDC', 'WDAY', 'XEL', 'ZM']\n",
    "data = yf.download(tickers, start, end)['Adj Close'].dropna()"
   ]
  },
  {
   "cell_type": "code",
   "execution_count": 157,
   "metadata": {},
   "outputs": [],
   "source": [
    "d_cor = distancia_correlacion(data)"
   ]
  },
  {
   "cell_type": "code",
   "execution_count": 158,
   "metadata": {},
   "outputs": [
    {
     "data": {
      "text/html": [
       "<div>\n",
       "<style scoped>\n",
       "    .dataframe tbody tr th:only-of-type {\n",
       "        vertical-align: middle;\n",
       "    }\n",
       "\n",
       "    .dataframe tbody tr th {\n",
       "        vertical-align: top;\n",
       "    }\n",
       "\n",
       "    .dataframe thead th {\n",
       "        text-align: right;\n",
       "    }\n",
       "</style>\n",
       "<table border=\"1\" class=\"dataframe\">\n",
       "  <thead>\n",
       "    <tr style=\"text-align: right;\">\n",
       "      <th></th>\n",
       "      <th>ADBE</th>\n",
       "      <th>ALGN</th>\n",
       "      <th>AMD</th>\n",
       "      <th>ATVI</th>\n",
       "      <th>GOOG</th>\n",
       "    </tr>\n",
       "  </thead>\n",
       "  <tbody>\n",
       "    <tr>\n",
       "      <th>ADBE</th>\n",
       "      <td>0.000000</td>\n",
       "      <td>0.278669</td>\n",
       "      <td>0.131872</td>\n",
       "      <td>0.446887</td>\n",
       "      <td>0.177165</td>\n",
       "    </tr>\n",
       "    <tr>\n",
       "      <th>ALGN</th>\n",
       "      <td>0.278669</td>\n",
       "      <td>0.000000</td>\n",
       "      <td>0.304735</td>\n",
       "      <td>0.408104</td>\n",
       "      <td>0.197882</td>\n",
       "    </tr>\n",
       "    <tr>\n",
       "      <th>AMD</th>\n",
       "      <td>0.131872</td>\n",
       "      <td>0.304735</td>\n",
       "      <td>0.000000</td>\n",
       "      <td>0.481478</td>\n",
       "      <td>0.209329</td>\n",
       "    </tr>\n",
       "    <tr>\n",
       "      <th>ATVI</th>\n",
       "      <td>0.446887</td>\n",
       "      <td>0.408104</td>\n",
       "      <td>0.481478</td>\n",
       "      <td>0.000000</td>\n",
       "      <td>0.465009</td>\n",
       "    </tr>\n",
       "    <tr>\n",
       "      <th>GOOG</th>\n",
       "      <td>0.177165</td>\n",
       "      <td>0.197882</td>\n",
       "      <td>0.209329</td>\n",
       "      <td>0.465009</td>\n",
       "      <td>0.000000</td>\n",
       "    </tr>\n",
       "  </tbody>\n",
       "</table>\n",
       "</div>"
      ],
      "text/plain": [
       "          ADBE      ALGN       AMD      ATVI      GOOG\n",
       "ADBE  0.000000  0.278669  0.131872  0.446887  0.177165\n",
       "ALGN  0.278669  0.000000  0.304735  0.408104  0.197882\n",
       "AMD   0.131872  0.304735  0.000000  0.481478  0.209329\n",
       "ATVI  0.446887  0.408104  0.481478  0.000000  0.465009\n",
       "GOOG  0.177165  0.197882  0.209329  0.465009  0.000000"
      ]
     },
     "execution_count": 158,
     "metadata": {},
     "output_type": "execute_result"
    }
   ],
   "source": [
    "d_cor"
   ]
  },
  {
   "cell_type": "code",
   "execution_count": 160,
   "metadata": {},
   "outputs": [
    {
     "data": {
      "text/plain": [
       "<AxesSubplot:>"
      ]
     },
     "execution_count": 160,
     "metadata": {},
     "output_type": "execute_result"
    },
    {
     "data": {
      "image/png": "[encoded data removed]",
      "text/plain": [
       "<Figure size 432x288 with 2 Axes>"
      ]
     },
     "metadata": {
      "needs_background": "light"
     },
     "output_type": "display_data"
    }
   ],
   "source": [
    "sns.heatmap(d_cor, cmap = sns.cm.rocket_r, annot=True)"
   ]
  },
  {
   "cell_type": "code",
   "execution_count": 167,
   "metadata": {},
   "outputs": [
    {
     "data": {
      "text/plain": [
       "<AxesSubplot:>"
      ]
     },
     "execution_count": 167,
     "metadata": {},
     "output_type": "execute_result"
    },
    {
     "data": {
      "image/png": "[encoded data removed]",
      "text/plain": [
       "<Figure size 432x288 with 2 Axes>"
      ]
     },
     "metadata": {
      "needs_background": "light"
     },
     "output_type": "display_data"
    }
   ],
   "source": [
    "sns.heatmap(data.corr(), cmap = sns.cm.rocket, annot=True)"
   ]
  },
  {
   "cell_type": "code",
   "execution_count": 30,
   "metadata": {},
   "outputs": [],
   "source": [
    "varinfo_matrix = np.zeros([data.shape[1], data.shape[1]])\n",
    "for i in range(data.shape[1]):\n",
    "    for j in range(data.shape[1]):\n",
    "        varinfo_matrix[i,j] = varInfo(data.iloc[:,i], data.iloc[:,j], bins = 100)"
   ]
  },
  {
   "cell_type": "code",
   "execution_count": 169,
   "metadata": {},
   "outputs": [
    {
     "data": {
      "text/plain": [
       "<AxesSubplot:>"
      ]
     },
     "execution_count": 169,
     "metadata": {},
     "output_type": "execute_result"
    },
    {
     "data": {
      "image/png": "[encoded data removed]",
      "text/plain": [
       "<Figure size 432x288 with 2 Axes>"
      ]
     },
     "metadata": {
      "needs_background": "light"
     },
     "output_type": "display_data"
    }
   ],
   "source": [
    "sns.heatmap(varinfo_matrix, cmap = sns.cm.rocket, xticklabels=sorted(tickers), yticklabels=sorted(tickers), annot=True)"
   ]
  },
  {
   "cell_type": "markdown",
   "metadata": {},
   "source": [
    "# Rankeamos"
   ]
  },
  {
   "cell_type": "code",
   "execution_count": 212,
   "metadata": {},
   "outputs": [],
   "source": [
    "d_corr = distancia_correlacion(data)\n",
    "\n",
    "\n",
    "for i in range(d_corr.shape[0]):\n",
    "\n",
    "  d_corr.iloc[i][i] = 1.0\n",
    "\n",
    "corr = d_corr[(d_corr < .2)].notna()\n",
    "\n",
    "correlatedColumns = list(corr.sum()[corr.sum() > 0].index)\n",
    "\n",
    "df_d_corr = data[correlatedColumns]"
   ]
  },
  {
   "cell_type": "code",
   "execution_count": 193,
   "metadata": {},
   "outputs": [],
   "source": [
    "corr = data.corr()\n",
    "\n",
    "#Se aplica correlacion\n",
    "\n",
    "for i in range(corr.shape[0]):\n",
    "\n",
    "  corr.iloc[i][i] = 0\n",
    "\n",
    "corr = corr[(corr > .9)].notna()\n",
    "\n",
    "correlatedColumns = list(corr.sum()[corr.sum() > 0].index)\n",
    "\n",
    "data_corr = data[correlatedColumns]"
   ]
  },
  {
   "cell_type": "code",
   "execution_count": 31,
   "metadata": {},
   "outputs": [],
   "source": [
    "varinfo_matrix = np.zeros([data.shape[1], data.shape[1]])\n",
    "for i in range(data.shape[1]):\n",
    "    for j in range(data.shape[1]):\n",
    "        varinfo_matrix[i,j] = varInfo(data.iloc[:,i], data.iloc[:,j], bins = 50)\n",
    "\n",
    "varinfo_matrix = pd.DataFrame(varinfo_matrix, columns=sorted(tickers))\n",
    "\n",
    "for i in range(varinfo_matrix.shape[0]):\n",
    "\n",
    "  varinfo_matrix.iloc[i][i] = 100.0\n",
    "\n",
    "varinfo_matrix = varinfo_matrix[(varinfo_matrix < 3.0)].notna()\n",
    "\n",
    "correlatedColumns = list(varinfo_matrix.sum()[varinfo_matrix.sum() > 0].index)\n",
    "\n",
    "data_varinfo = data[correlatedColumns]\n",
    "\n"
   ]
  },
  {
   "cell_type": "code",
   "execution_count": 32,
   "metadata": {},
   "outputs": [
    {
     "data": {
      "text/html": [
       "<div>\n",
       "<style scoped>\n",
       "    .dataframe tbody tr th:only-of-type {\n",
       "        vertical-align: middle;\n",
       "    }\n",
       "\n",
       "    .dataframe tbody tr th {\n",
       "        vertical-align: top;\n",
       "    }\n",
       "\n",
       "    .dataframe thead th {\n",
       "        text-align: right;\n",
       "    }\n",
       "</style>\n",
       "<table border=\"1\" class=\"dataframe\">\n",
       "  <thead>\n",
       "    <tr style=\"text-align: right;\">\n",
       "      <th></th>\n",
       "      <th>AAPL</th>\n",
       "      <th>ADBE</th>\n",
       "      <th>ADP</th>\n",
       "      <th>AMAT</th>\n",
       "      <th>AMD</th>\n",
       "      <th>ASML</th>\n",
       "      <th>AVGO</th>\n",
       "      <th>CDNS</th>\n",
       "      <th>COST</th>\n",
       "      <th>DOCU</th>\n",
       "      <th>...</th>\n",
       "      <th>KLAC</th>\n",
       "      <th>LRCX</th>\n",
       "      <th>MRNA</th>\n",
       "      <th>MSFT</th>\n",
       "      <th>NVDA</th>\n",
       "      <th>PAYX</th>\n",
       "      <th>PYPL</th>\n",
       "      <th>QCOM</th>\n",
       "      <th>SNPS</th>\n",
       "      <th>TSLA</th>\n",
       "    </tr>\n",
       "    <tr>\n",
       "      <th>Date</th>\n",
       "      <th></th>\n",
       "      <th></th>\n",
       "      <th></th>\n",
       "      <th></th>\n",
       "      <th></th>\n",
       "      <th></th>\n",
       "      <th></th>\n",
       "      <th></th>\n",
       "      <th></th>\n",
       "      <th></th>\n",
       "      <th></th>\n",
       "      <th></th>\n",
       "      <th></th>\n",
       "      <th></th>\n",
       "      <th></th>\n",
       "      <th></th>\n",
       "      <th></th>\n",
       "      <th></th>\n",
       "      <th></th>\n",
       "      <th></th>\n",
       "      <th></th>\n",
       "    </tr>\n",
       "  </thead>\n",
       "  <tbody>\n",
       "    <tr>\n",
       "      <th>2019-04-18</th>\n",
       "      <td>49.551826</td>\n",
       "      <td>270.570007</td>\n",
       "      <td>151.803238</td>\n",
       "      <td>42.320339</td>\n",
       "      <td>27.680000</td>\n",
       "      <td>198.277985</td>\n",
       "      <td>283.240479</td>\n",
       "      <td>63.369999</td>\n",
       "      <td>233.323792</td>\n",
       "      <td>52.790001</td>\n",
       "      <td>...</td>\n",
       "      <td>117.817673</td>\n",
       "      <td>185.812119</td>\n",
       "      <td>22.510000</td>\n",
       "      <td>119.282494</td>\n",
       "      <td>46.306980</td>\n",
       "      <td>74.373199</td>\n",
       "      <td>107.360001</td>\n",
       "      <td>73.918320</td>\n",
       "      <td>115.980003</td>\n",
       "      <td>54.652000</td>\n",
       "    </tr>\n",
       "    <tr>\n",
       "      <th>2019-04-22</th>\n",
       "      <td>49.714691</td>\n",
       "      <td>272.209991</td>\n",
       "      <td>151.307953</td>\n",
       "      <td>42.166275</td>\n",
       "      <td>28.180000</td>\n",
       "      <td>197.892807</td>\n",
       "      <td>280.022522</td>\n",
       "      <td>64.209999</td>\n",
       "      <td>231.055176</td>\n",
       "      <td>54.130001</td>\n",
       "      <td>...</td>\n",
       "      <td>116.745743</td>\n",
       "      <td>186.241425</td>\n",
       "      <td>23.629999</td>\n",
       "      <td>119.659569</td>\n",
       "      <td>46.846355</td>\n",
       "      <td>74.391426</td>\n",
       "      <td>106.809998</td>\n",
       "      <td>75.842842</td>\n",
       "      <td>116.989998</td>\n",
       "      <td>52.549999</td>\n",
       "    </tr>\n",
       "    <tr>\n",
       "      <th>2019-04-23</th>\n",
       "      <td>50.431736</td>\n",
       "      <td>278.489990</td>\n",
       "      <td>154.233002</td>\n",
       "      <td>42.204800</td>\n",
       "      <td>27.969999</td>\n",
       "      <td>197.680939</td>\n",
       "      <td>280.591400</td>\n",
       "      <td>66.699997</td>\n",
       "      <td>233.105499</td>\n",
       "      <td>55.240002</td>\n",
       "      <td>...</td>\n",
       "      <td>116.831123</td>\n",
       "      <td>185.821655</td>\n",
       "      <td>24.700001</td>\n",
       "      <td>121.283920</td>\n",
       "      <td>47.393188</td>\n",
       "      <td>76.187164</td>\n",
       "      <td>106.900002</td>\n",
       "      <td>80.237793</td>\n",
       "      <td>119.889999</td>\n",
       "      <td>52.779999</td>\n",
       "    </tr>\n",
       "    <tr>\n",
       "      <th>2019-04-24</th>\n",
       "      <td>50.353962</td>\n",
       "      <td>275.450012</td>\n",
       "      <td>152.793839</td>\n",
       "      <td>42.811432</td>\n",
       "      <td>28.459999</td>\n",
       "      <td>197.796524</td>\n",
       "      <td>279.426849</td>\n",
       "      <td>67.650002</td>\n",
       "      <td>235.364578</td>\n",
       "      <td>55.840000</td>\n",
       "      <td>...</td>\n",
       "      <td>119.183670</td>\n",
       "      <td>186.451340</td>\n",
       "      <td>25.760000</td>\n",
       "      <td>120.868164</td>\n",
       "      <td>47.517471</td>\n",
       "      <td>76.096031</td>\n",
       "      <td>107.220001</td>\n",
       "      <td>80.339554</td>\n",
       "      <td>119.870003</td>\n",
       "      <td>51.731998</td>\n",
       "    </tr>\n",
       "    <tr>\n",
       "      <th>2019-04-25</th>\n",
       "      <td>49.896980</td>\n",
       "      <td>277.660004</td>\n",
       "      <td>153.130264</td>\n",
       "      <td>42.801804</td>\n",
       "      <td>27.660000</td>\n",
       "      <td>198.566864</td>\n",
       "      <td>277.195587</td>\n",
       "      <td>67.489998</td>\n",
       "      <td>233.124466</td>\n",
       "      <td>57.009998</td>\n",
       "      <td>...</td>\n",
       "      <td>118.965500</td>\n",
       "      <td>195.647949</td>\n",
       "      <td>25.740000</td>\n",
       "      <td>124.870987</td>\n",
       "      <td>46.458603</td>\n",
       "      <td>75.868126</td>\n",
       "      <td>110.220001</td>\n",
       "      <td>78.711113</td>\n",
       "      <td>119.699997</td>\n",
       "      <td>49.526001</td>\n",
       "    </tr>\n",
       "    <tr>\n",
       "      <th>...</th>\n",
       "      <td>...</td>\n",
       "      <td>...</td>\n",
       "      <td>...</td>\n",
       "      <td>...</td>\n",
       "      <td>...</td>\n",
       "      <td>...</td>\n",
       "      <td>...</td>\n",
       "      <td>...</td>\n",
       "      <td>...</td>\n",
       "      <td>...</td>\n",
       "      <td>...</td>\n",
       "      <td>...</td>\n",
       "      <td>...</td>\n",
       "      <td>...</td>\n",
       "      <td>...</td>\n",
       "      <td>...</td>\n",
       "      <td>...</td>\n",
       "      <td>...</td>\n",
       "      <td>...</td>\n",
       "      <td>...</td>\n",
       "      <td>...</td>\n",
       "    </tr>\n",
       "    <tr>\n",
       "      <th>2021-12-27</th>\n",
       "      <td>179.836319</td>\n",
       "      <td>577.679993</td>\n",
       "      <td>243.909973</td>\n",
       "      <td>162.030945</td>\n",
       "      <td>154.360001</td>\n",
       "      <td>805.476624</td>\n",
       "      <td>664.244202</td>\n",
       "      <td>191.649994</td>\n",
       "      <td>561.703369</td>\n",
       "      <td>156.520004</td>\n",
       "      <td>...</td>\n",
       "      <td>437.523560</td>\n",
       "      <td>718.667114</td>\n",
       "      <td>246.880005</td>\n",
       "      <td>340.949280</td>\n",
       "      <td>309.331909</td>\n",
       "      <td>133.951111</td>\n",
       "      <td>192.009995</td>\n",
       "      <td>184.584259</td>\n",
       "      <td>375.589996</td>\n",
       "      <td>1093.939941</td>\n",
       "    </tr>\n",
       "    <tr>\n",
       "      <th>2021-12-28</th>\n",
       "      <td>178.799164</td>\n",
       "      <td>569.359985</td>\n",
       "      <td>243.692108</td>\n",
       "      <td>158.963989</td>\n",
       "      <td>153.149994</td>\n",
       "      <td>798.865540</td>\n",
       "      <td>659.042725</td>\n",
       "      <td>190.080002</td>\n",
       "      <td>562.869751</td>\n",
       "      <td>152.389999</td>\n",
       "      <td>...</td>\n",
       "      <td>429.551758</td>\n",
       "      <td>711.414795</td>\n",
       "      <td>241.440002</td>\n",
       "      <td>339.754517</td>\n",
       "      <td>303.104248</td>\n",
       "      <td>134.158508</td>\n",
       "      <td>190.100006</td>\n",
       "      <td>183.088409</td>\n",
       "      <td>372.149994</td>\n",
       "      <td>1088.469971</td>\n",
       "    </tr>\n",
       "    <tr>\n",
       "      <th>2021-12-29</th>\n",
       "      <td>178.888916</td>\n",
       "      <td>569.289978</td>\n",
       "      <td>245.613358</td>\n",
       "      <td>160.298309</td>\n",
       "      <td>148.259995</td>\n",
       "      <td>796.095947</td>\n",
       "      <td>662.598999</td>\n",
       "      <td>189.929993</td>\n",
       "      <td>565.989929</td>\n",
       "      <td>152.479996</td>\n",
       "      <td>...</td>\n",
       "      <td>432.464142</td>\n",
       "      <td>721.995178</td>\n",
       "      <td>247.880005</td>\n",
       "      <td>340.451477</td>\n",
       "      <td>299.895508</td>\n",
       "      <td>135.669464</td>\n",
       "      <td>189.970001</td>\n",
       "      <td>184.455460</td>\n",
       "      <td>373.440002</td>\n",
       "      <td>1086.189941</td>\n",
       "    </tr>\n",
       "    <tr>\n",
       "      <th>2021-12-30</th>\n",
       "      <td>177.712143</td>\n",
       "      <td>570.530029</td>\n",
       "      <td>243.187027</td>\n",
       "      <td>157.311005</td>\n",
       "      <td>145.149994</td>\n",
       "      <td>794.348877</td>\n",
       "      <td>655.181091</td>\n",
       "      <td>188.250000</td>\n",
       "      <td>562.142029</td>\n",
       "      <td>155.160004</td>\n",
       "      <td>...</td>\n",
       "      <td>424.512207</td>\n",
       "      <td>713.630310</td>\n",
       "      <td>251.600006</td>\n",
       "      <td>337.833008</td>\n",
       "      <td>295.747070</td>\n",
       "      <td>134.751022</td>\n",
       "      <td>191.880005</td>\n",
       "      <td>181.017975</td>\n",
       "      <td>370.809998</td>\n",
       "      <td>1070.339966</td>\n",
       "    </tr>\n",
       "    <tr>\n",
       "      <th>2021-12-31</th>\n",
       "      <td>177.083878</td>\n",
       "      <td>567.059998</td>\n",
       "      <td>244.197174</td>\n",
       "      <td>156.693649</td>\n",
       "      <td>143.899994</td>\n",
       "      <td>790.298828</td>\n",
       "      <td>655.506165</td>\n",
       "      <td>186.350006</td>\n",
       "      <td>565.920166</td>\n",
       "      <td>152.309998</td>\n",
       "      <td>...</td>\n",
       "      <td>427.524017</td>\n",
       "      <td>714.444946</td>\n",
       "      <td>253.979996</td>\n",
       "      <td>334.846161</td>\n",
       "      <td>293.997711</td>\n",
       "      <td>134.800415</td>\n",
       "      <td>188.580002</td>\n",
       "      <td>181.156662</td>\n",
       "      <td>368.500000</td>\n",
       "      <td>1056.780029</td>\n",
       "    </tr>\n",
       "  </tbody>\n",
       "</table>\n",
       "<p>683 rows × 26 columns</p>\n",
       "</div>"
      ],
      "text/plain": [
       "                  AAPL        ADBE         ADP        AMAT         AMD  \\\n",
       "Date                                                                     \n",
       "2019-04-18   49.551826  270.570007  151.803238   42.320339   27.680000   \n",
       "2019-04-22   49.714691  272.209991  151.307953   42.166275   28.180000   \n",
       "2019-04-23   50.431736  278.489990  154.233002   42.204800   27.969999   \n",
       "2019-04-24   50.353962  275.450012  152.793839   42.811432   28.459999   \n",
       "2019-04-25   49.896980  277.660004  153.130264   42.801804   27.660000   \n",
       "...                ...         ...         ...         ...         ...   \n",
       "2021-12-27  179.836319  577.679993  243.909973  162.030945  154.360001   \n",
       "2021-12-28  178.799164  569.359985  243.692108  158.963989  153.149994   \n",
       "2021-12-29  178.888916  569.289978  245.613358  160.298309  148.259995   \n",
       "2021-12-30  177.712143  570.530029  243.187027  157.311005  145.149994   \n",
       "2021-12-31  177.083878  567.059998  244.197174  156.693649  143.899994   \n",
       "\n",
       "                  ASML        AVGO        CDNS        COST        DOCU  ...  \\\n",
       "Date                                                                    ...   \n",
       "2019-04-18  198.277985  283.240479   63.369999  233.323792   52.790001  ...   \n",
       "2019-04-22  197.892807  280.022522   64.209999  231.055176   54.130001  ...   \n",
       "2019-04-23  197.680939  280.591400   66.699997  233.105499   55.240002  ...   \n",
       "2019-04-24  197.796524  279.426849   67.650002  235.364578   55.840000  ...   \n",
       "2019-04-25  198.566864  277.195587   67.489998  233.124466   57.009998  ...   \n",
       "...                ...         ...         ...         ...         ...  ...   \n",
       "2021-12-27  805.476624  664.244202  191.649994  561.703369  156.520004  ...   \n",
       "2021-12-28  798.865540  659.042725  190.080002  562.869751  152.389999  ...   \n",
       "2021-12-29  796.095947  662.598999  189.929993  565.989929  152.479996  ...   \n",
       "2021-12-30  794.348877  655.181091  188.250000  562.142029  155.160004  ...   \n",
       "2021-12-31  790.298828  655.506165  186.350006  565.920166  152.309998  ...   \n",
       "\n",
       "                  KLAC        LRCX        MRNA        MSFT        NVDA  \\\n",
       "Date                                                                     \n",
       "2019-04-18  117.817673  185.812119   22.510000  119.282494   46.306980   \n",
       "2019-04-22  116.745743  186.241425   23.629999  119.659569   46.846355   \n",
       "2019-04-23  116.831123  185.821655   24.700001  121.283920   47.393188   \n",
       "2019-04-24  119.183670  186.451340   25.760000  120.868164   47.517471   \n",
       "2019-04-25  118.965500  195.647949   25.740000  124.870987   46.458603   \n",
       "...                ...         ...         ...         ...         ...   \n",
       "2021-12-27  437.523560  718.667114  246.880005  340.949280  309.331909   \n",
       "2021-12-28  429.551758  711.414795  241.440002  339.754517  303.104248   \n",
       "2021-12-29  432.464142  721.995178  247.880005  340.451477  299.895508   \n",
       "2021-12-30  424.512207  713.630310  251.600006  337.833008  295.747070   \n",
       "2021-12-31  427.524017  714.444946  253.979996  334.846161  293.997711   \n",
       "\n",
       "                  PAYX        PYPL        QCOM        SNPS         TSLA  \n",
       "Date                                                                     \n",
       "2019-04-18   74.373199  107.360001   73.918320  115.980003    54.652000  \n",
       "2019-04-22   74.391426  106.809998   75.842842  116.989998    52.549999  \n",
       "2019-04-23   76.187164  106.900002   80.237793  119.889999    52.779999  \n",
       "2019-04-24   76.096031  107.220001   80.339554  119.870003    51.731998  \n",
       "2019-04-25   75.868126  110.220001   78.711113  119.699997    49.526001  \n",
       "...                ...         ...         ...         ...          ...  \n",
       "2021-12-27  133.951111  192.009995  184.584259  375.589996  1093.939941  \n",
       "2021-12-28  134.158508  190.100006  183.088409  372.149994  1088.469971  \n",
       "2021-12-29  135.669464  189.970001  184.455460  373.440002  1086.189941  \n",
       "2021-12-30  134.751022  191.880005  181.017975  370.809998  1070.339966  \n",
       "2021-12-31  134.800415  188.580002  181.156662  368.500000  1056.780029  \n",
       "\n",
       "[683 rows x 26 columns]"
      ]
     },
     "execution_count": 32,
     "metadata": {},
     "output_type": "execute_result"
    }
   ],
   "source": [
    "data_varinfo"
   ]
  },
  {
   "cell_type": "markdown",
   "metadata": {},
   "source": [
    "# Clases"
   ]
  },
  {
   "cell_type": "code",
   "execution_count": 79,
   "metadata": {},
   "outputs": [],
   "source": [
    "class paresTrading:\n",
    "\n",
    "  def __init__(self, ticker, start, end, minCorrelation = .98):\n",
    "\n",
    "    self.start = start\n",
    "\n",
    "    self.end = end\n",
    "\n",
    "    self.minCorrlation = minCorrelation\n",
    "\n",
    "    #descargar los datos y guardarlos en un dataframe que se llame self.df\n",
    "\n",
    "    self.df = yf.download(tickers, start, end)['Adj Close'].dropna()\n",
    "\n",
    "\n",
    "\n",
    "  def correlationTest(self):\n",
    "\n",
    "    corr = self.df.corr()\n",
    "\n",
    "    #Se aplica correlacion\n",
    "\n",
    "    for i in range(corr.shape[0]):\n",
    "\n",
    "      corr.iloc[i][i] = 0\n",
    "\n",
    "    corr = corr[(corr > .8)].notna()\n",
    "\n",
    "    correlatedColumns = list(corr.sum()[corr.sum() > 0].index)\n",
    "\n",
    "    data = self.df[correlatedColumns]\n",
    "\n",
    "    #Se aplica cointegracion\n",
    "\n",
    "    self.pairs = []\n",
    "\n",
    "    for i in range(data.shape[1]):\n",
    "\n",
    "        for j in range(i+1, data.shape[1]):\n",
    "\n",
    "            resultado = coint(data[data.columns[i]], data[data.columns[j]])\n",
    "\n",
    "            if resultado[1] <= 0.001:\n",
    "\n",
    "                self.pairs.append((data.columns[i], data.columns[j]))\n",
    "\n",
    "    #Se aplica correlacion en serie de tiempo\n",
    "\n",
    "    return self.pairs\n",
    "\n",
    "    \n",
    "\n",
    "  def variationalInformationTest(self):\n",
    "    varinfo_matrix = np.zeros([self.df.shape[1], self.df.shape[1]])\n",
    "    for i in range(self.df.shape[1]):\n",
    "      for j in range(self.df.shape[1]):\n",
    "        varinfo_matrix[i,j] = varInfo(self.df.iloc[:,i], self.df.iloc[:,j], bins = 50)\n",
    "\n",
    "    varinfo_matrix = pd.DataFrame(varinfo_matrix, columns=sorted(tickers))\n",
    "\n",
    "\n",
    "    for i in range(varinfo_matrix.shape[0]):\n",
    "\n",
    "      varinfo_matrix.iloc[i][i] = 100.0\n",
    "\n",
    "    varinfo_matrix = varinfo_matrix[(varinfo_matrix < 3.0)].notna()\n",
    "\n",
    "    correlatedColumns = list(varinfo_matrix.sum()[varinfo_matrix.sum() > 0].index)\n",
    "\n",
    "    data = self.df[correlatedColumns]\n",
    "\n",
    "    #Se aplica cointegracion\n",
    "\n",
    "    self.pairs_varinfo = []\n",
    "\n",
    "    for i in range(data.shape[1]):\n",
    "\n",
    "      for j in range(i+1, data.shape[1]):\n",
    "\n",
    "        resultado = coint(data[data.columns[i]], data[data.columns[j]])\n",
    "\n",
    "        if resultado[1] <= 0.1:\n",
    "\n",
    "          self.pairs_varinfo.append((data.columns[i], data.columns[j]))\n",
    "\n",
    "    return self.pairs_varinfo\n",
    "\n",
    "\n",
    "\n"
   ]
  },
  {
   "cell_type": "code",
   "execution_count": 80,
   "metadata": {},
   "outputs": [
    {
     "name": "stdout",
     "output_type": "stream",
     "text": [
      "[*********************100%***********************]  98 of 98 completed\n"
     ]
    }
   ],
   "source": [
    "modelo = paresTrading(tickers, start, end)"
   ]
  },
  {
   "cell_type": "code",
   "execution_count": 81,
   "metadata": {},
   "outputs": [
    {
     "data": {
      "text/plain": [
       "[('COST', 'PEP'), ('CPRT', 'ISRG'), ('FOXA', 'MAR')]"
      ]
     },
     "execution_count": 81,
     "metadata": {},
     "output_type": "execute_result"
    }
   ],
   "source": [
    "cor = modelo.correlationTest()\n",
    "cor"
   ]
  },
  {
   "cell_type": "code",
   "execution_count": 82,
   "metadata": {},
   "outputs": [
    {
     "data": {
      "text/plain": [
       "[('AAPL', 'AMD'),\n",
       " ('ADP', 'PAYX'),\n",
       " ('AMD', 'SNPS'),\n",
       " ('ASML', 'GOOG'),\n",
       " ('ASML', 'GOOGL'),\n",
       " ('ASML', 'IDXX'),\n",
       " ('AVGO', 'KLAC'),\n",
       " ('CDNS', 'SNPS'),\n",
       " ('CDNS', 'TSLA'),\n",
       " ('COST', 'NVDA'),\n",
       " ('IDXX', 'MRNA'),\n",
       " ('KLAC', 'SNPS'),\n",
       " ('KLAC', 'TSLA'),\n",
       " ('MSFT', 'NVDA'),\n",
       " ('NVDA', 'SNPS'),\n",
       " ('QCOM', 'TSLA')]"
      ]
     },
     "execution_count": 82,
     "metadata": {},
     "output_type": "execute_result"
    }
   ],
   "source": [
    "var_info = modelo.variationalInformationTest()\n",
    "var_info\n"
   ]
  },
  {
   "cell_type": "code",
   "execution_count": 107,
   "metadata": {},
   "outputs": [
    {
     "data": {
      "text/plain": [
       "[<matplotlib.lines.Line2D at 0x1986819e7a0>]"
      ]
     },
     "execution_count": 107,
     "metadata": {},
     "output_type": "execute_result"
    },
    {
     "data": {
      "image/png": "[encoded data removed]",
      "text/plain": [
       "<Figure size 432x288 with 1 Axes>"
      ]
     },
     "metadata": {
      "needs_background": "light"
     },
     "output_type": "display_data"
    }
   ],
   "source": [
    "plt.plot(modelo.df['GOOG'])\n",
    "plt.plot(modelo.df['GOOGL'])"
   ]
  }
 ],
 "metadata": {
  "kernelspec": {
   "display_name": "Python 3.10.4 64-bit",
   "language": "python",
   "name": "python3"
  },
  "language_info": {
   "codemirror_mode": {
    "name": "ipython",
    "version": 3
   },
   "file_extension": ".py",
   "mimetype": "text/x-python",
   "name": "python",
   "nbconvert_exporter": "python",
   "pygments_lexer": "ipython3",
   "version": "3.10.4"
  },
  "orig_nbformat": 4,
  "vscode": {
   "interpreter": {
    "hash": "f6f4be9d72399844def119e1df21845b2128ef712d8fcf4cd69986c1cd29c5be"
   }
  }
 },
 "nbformat": 4,
 "nbformat_minor": 2
}
