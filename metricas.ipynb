{
 "cells": [
  {
   "cell_type": "markdown",
   "metadata": {
    "tags": []
   },
   "source": [
    "# Inicialización"
   ]
  },
  {
   "cell_type": "code",
   "execution_count": 1,
   "metadata": {},
   "outputs": [],
   "source": [
    "import numpy as np\n",
    "\n",
    "import pandas as pd\n",
    "from statsmodels.tsa.stattools import coint\n",
    "import matplotlib.pyplot as plt\n",
    "import yfinance as yf\n",
    "import datetime\n",
    "import seaborn as sns\n",
    "from scipy.stats import entropy\n",
    "from sklearn.metrics import mutual_info_score\n",
    "import ETF_Filter as ETF"
   ]
  },
  {
   "cell_type": "code",
   "execution_count": 2,
   "metadata": {},
   "outputs": [],
   "source": [
    "\n",
    "'''  \n",
    "X <- Serie de tiempo de Ticker 1\n",
    "Y <- Serie de tiempo de Ticker 2\n",
    "'''\n",
    "\n",
    "def correlation_distance(X, Y):\n",
    "    cor = np.corrcoef(X,Y)[0,1]\n",
    "    metrica = np.sqrt(0.5*(1-cor))\n",
    "    return metrica\n",
    "\n",
    "'''  \n",
    "X <- Serie de tiempo de Ticker 1\n",
    "Y <- Serie de tiempo de Ticker 2\n",
    "bins <- Tamaño partición\n",
    "norm <- boolean False si las series no están normalizadas\n",
    "'''\n",
    "#---------------------------------------------------\n",
    "def varInfo(X,Y,bins,norm=False):\n",
    "    import numpy as np\n",
    "    # variation of information\n",
    "    cXY=np.histogram2d(X,Y,bins)[0]\n",
    "    iXY=mutual_info_score(None,None,contingency=cXY)\n",
    "    hX=entropy(np.histogram(X,bins)[0]) # marginal\n",
    "    hY=entropy(np.histogram(Y,bins)[0]) # marginal\n",
    "    vXY=hX+hY-2*iXY # variation of information\n",
    "    if norm:\n",
    "        hXY=hX+hY-iXY # joint\n",
    "        vXY/=hXY # normalized variation of information\n",
    "    return vXY"
   ]
  },
  {
   "cell_type": "code",
   "execution_count": 3,
   "metadata": {},
   "outputs": [],
   "source": [
    "start = datetime.datetime(2018, 1, 1)\n",
    "end = datetime.datetime(2022, 6, 23)\n",
    "\n",
    "tickers = ['ATVI', 'ADBE', 'AMD', 'ALGN', 'GOOG', 'GOOGL', 'AMZN', 'AMGN', 'ADI', 'AAPL', 'AMAT', 'ASML', 'ADSK',\n",
    "    'ADP','BIDU', 'BIIB', 'BMRN', 'BKNG', 'AVGO', 'CDNS', 'CDW', 'CERN', 'CHTR', 'CHKP', 'CTAS', 'CSCO', \n",
    "    'CTXS', 'CTSH', 'CMCSA', 'CPRT', 'COST', 'CSX', 'DXCM' ,'DOCU' ,'DLTR' ,'EBAY', 'EA' ,'EXC','EXPE','FB', \n",
    "    'FAST', 'FISV', 'FOX', 'FOXA', 'GILD', 'IDXX', 'ILMN', 'INCY', 'INTC', 'INTU', 'ISRG',\n",
    "    'JD', 'KLAC', 'LRCX', 'LBTYA', 'LULU', 'MAR', 'MELI', 'MCHP', 'MU', 'MSFT','MRNA', 'MDLZ', 'MNST', 'NTES', \n",
    "    'NFLX' ,'NVDA', 'NXPI', 'ORLY', 'PCAR', 'PAYX', 'PYPL', 'PEP', 'PDD', 'QCOM', 'REGN', 'ROST',\n",
    "    'SGEN', 'SIRI', 'SWKS', 'SPLK', 'SBUX', 'SNPS', 'TMUS', 'TTWO','TSLA', 'TXN', 'KHC', 'TCOM', \n",
    "    'ULTA', 'VRSN', 'VRSK', 'VRTX', 'WBA', 'WDC', 'WDAY', 'XEL', 'ZM']"
   ]
  },
  {
   "cell_type": "markdown",
   "metadata": {
    "tags": []
   },
   "source": [
    "# Filtro"
   ]
  },
  {
   "cell_type": "code",
   "execution_count": 4,
   "metadata": {},
   "outputs": [],
   "source": [
    "class paresTrading:\n",
    "\n",
    "    def __init__(self, tickers, start, end):\n",
    "\n",
    "        self.start = start\n",
    "\n",
    "        self.end = end\n",
    "\n",
    "        self.tickers = sorted(tickers)\n",
    "\n",
    "        # Descargar los datos y guardarlos en un dataframe que se llame self.df\n",
    "\n",
    "        self.df = yf.download(tickers, start, end)['Adj Close'].dropna()\n",
    "\n",
    "        self.data_filtration = self.df.copy()\n",
    "\n",
    "        self.pairs = []\n",
    "\n",
    "        for i in range(len(self.tickers)):\n",
    "            for j in range(i+1,len(self.tickers)):\n",
    "                self.pairs.append((self.tickers[i],self.tickers[j]))\n",
    "                \n",
    "    def TopologicalEmbedding(self, tol=100, lagtime=1):\n",
    "        \n",
    "        \n",
    "        lista_topological = []\n",
    "        lista_embedding = []\n",
    "        \n",
    "        for ticker in self.data_filtration.columns:\n",
    "            topo = ETF.Tembedding(self.data_filtration[ticker])\n",
    "            topo.tset(ticker, lagtime)\n",
    "            lista_topological.append(topo.ticker_tset)\n",
    "            \n",
    "            topo.tembedding()\n",
    "            lista_embedding.append((ticker, topo.ticker_embedding))\n",
    "        \n",
    "        self.embedding_df = pd.DataFrame(lista_embedding, columns=['Ticker','Embedding']).set_index('Ticker')\n",
    "        embedding_df = self.embedding_df\n",
    "        \n",
    "        for pair in self.pairs:\n",
    "            resultado = topo.hausdorff_metric(embedding_df.loc[[pair[0]]].Embedding[0], embedding_df.loc[[pair[1]]].Embedding[0])\n",
    "            if resultado > tol:\n",
    "                self.pairs.remove(pair)\n",
    "            \n",
    "        self.__filter_data()\n",
    "\n",
    "\n",
    "    def correlationTest(self, tol = 0.9):\n",
    "         \n",
    "\n",
    "        for pair in self.pairs:\n",
    "\n",
    "                resultado = np.corrcoef(self.data_filtration[pair[0]],self.data_filtration[pair[1]])[0,1]\n",
    "                if resultado < tol:\n",
    "\n",
    "                    self.pairs.remove(pair)\n",
    "            \n",
    "        self.__filter_data()\n",
    "\n",
    "\n",
    "\n",
    "    def cointegration(self, tol=0.1):\n",
    "\n",
    "        for pair in self.pairs:\n",
    "\n",
    "                resultado = coint(self.data_filtration[pair[0]], self.data_filtration[pair[1]])[1]\n",
    "\n",
    "                if resultado > tol:\n",
    "\n",
    "                    self.pairs.remove(pair)\n",
    "                    \n",
    "        self.__filter_data()\n",
    "        \n",
    "    \n",
    "    def distance_correlationTest(self, tol=0.3):\n",
    "        \n",
    "        for pair in self.pairs:\n",
    "            \n",
    "            resultado = correlation_distance(self.data_filtration[pair[0]], self.data_filtration[pair[1]])\n",
    "            \n",
    "            if resultado > tol:\n",
    "                self.pairs.remove(pair)\n",
    "                \n",
    "        self.__filter_data()\n",
    "   \n",
    "                \n",
    "\n",
    "\n",
    "    def variationalInformationTest(self, bins = 50, tol = 3.0):\n",
    "    \n",
    "        for pair in self.pairs:\n",
    "\n",
    "            resultado = varInfo(self.data_filtration[pair[0]],self.data_filtration[pair[1]], bins = bins)\n",
    "\n",
    "            if resultado > tol:\n",
    "\n",
    "                self.pairs.remove(pair)\n",
    "                \n",
    "        self.__filter_data()\n",
    "\n",
    "    \n",
    "    def clear_filter(self):\n",
    "\n",
    "        self.pairs = []\n",
    "        self.data_filtration = self.df.copy()\n",
    "\n",
    "        for i in range(len(self.tickers)):\n",
    "            for j in range(i+1,len(self.tickers)):\n",
    "                self.pairs.append((self.tickers[i],self.tickers[j]))\n",
    "            \n",
    "  \n",
    "    def __filter_data(self):\n",
    "    \n",
    "        unique_tickers = []\n",
    "        \n",
    "        for pair in self.pairs:\n",
    "            if pair[0] not in unique_tickers:\n",
    "                unique_tickers.append(pair[0])\n",
    "            if pair[1] not in unique_tickers:\n",
    "                unique_tickers.append(pair[1])\n",
    "        \n",
    "        self.data_filtration = self.data_filtration[unique_tickers]\n",
    "        \n",
    "    \n",
    "    def plot_correlation(self, method = 'pearson', *args):\n",
    "        plt.figure(figsize=(25,25))\n",
    "        sns.heatmap(self.data_filtration.corr(method = method), cmap = sns.cm.rocket, *args)\n",
    "        \n",
    "    def plot_variational_information(self, bins= 50, *args):\n",
    "        varinfo_matrix = np.zeros([self.data_filtration.shape[1], self.data_filtration.shape[1]])\n",
    "        for i in range(self.data_filtration.shape[1]):\n",
    "            for j in range(self.data_filtration.shape[1]):\n",
    "                varinfo_matrix[i,j] = varInfo(self.data_filtration.iloc[:,i], self.data_filtration.iloc[:,j], bins = 50)\n",
    "        varinfo_matrix = pd.DataFrame(varinfo_matrix, columns=self.data_filtration.columns)\n",
    "        \n",
    "        plt.figure(figsize=(25,25))\n",
    "        sns.heatmap(varinfo_matrix, cmap = sns.cm.rocket, xticklabels=self.tickers, yticklabels=self.tickers, *args)\n",
    "        \n",
    "    def plot_correlationDistance(self, method = 'pearson', *args):\n",
    "        \n",
    "        cor = self.data_filtration.corr(method='pearson')\n",
    "        metrica = np.sqrt(0.5*(1-cor))\n",
    "        plt.figure(figsize=(25,25))\n",
    "        sns.heatmap(metrica, cmap = sns.cm.rocket_r)\n",
    "        \n",
    "\n",
    "\n"
   ]
  },
  {
   "cell_type": "code",
   "execution_count": 48,
   "metadata": {},
   "outputs": [],
   "source": [
    "#modelo = paresTrading(tickers, start, end)\n",
    "\n",
    "modelo.clear_filter()"
   ]
  },
  {
   "cell_type": "code",
   "execution_count": 59,
   "metadata": {},
   "outputs": [
    {
     "name": "stdout",
     "output_type": "stream",
     "text": [
      "282\n",
      "282\n"
     ]
    }
   ],
   "source": [
    "modelo.distance_correlationTest(tol=0.2)\n"
   ]
  },
  {
   "cell_type": "code",
   "execution_count": 66,
   "metadata": {},
   "outputs": [
    {
     "name": "stdout",
     "output_type": "stream",
     "text": [
      "49\n",
      "49\n"
     ]
    }
   ],
   "source": [
    "modelo.variationalInformationTest(tol = 3.3)"
   ]
  },
  {
   "cell_type": "code",
   "execution_count": 71,
   "metadata": {},
   "outputs": [
    {
     "name": "stdout",
     "output_type": "stream",
     "text": [
      "27\n",
      "27\n"
     ]
    }
   ],
   "source": [
    "\n",
    "modelo.cointegration(tol=0.3)\n"
   ]
  },
  {
   "cell_type": "code",
   "execution_count": 76,
   "metadata": {},
   "outputs": [
    {
     "name": "stdout",
     "output_type": "stream",
     "text": [
      "12\n",
      "12\n"
     ]
    }
   ],
   "source": [
    "\n",
    "modelo.TopologicalEmbedding(tol=60)\n"
   ]
  },
  {
   "cell_type": "code",
   "execution_count": 77,
   "metadata": {},
   "outputs": [
    {
     "data": {
      "text/plain": [
       "[('AAPL', 'NVDA'),\n",
       " ('AAPL', 'TSLA'),\n",
       " ('AMD', 'NVDA'),\n",
       " ('AMD', 'TSLA'),\n",
       " ('ASML', 'INTU'),\n",
       " ('AVGO', 'TSLA'),\n",
       " ('CTAS', 'MSFT'),\n",
       " ('GOOG', 'GOOGL'),\n",
       " ('MSFT', 'NVDA'),\n",
       " ('MSFT', 'SNPS'),\n",
       " ('NVDA', 'TSLA'),\n",
       " ('SNPS', 'TSLA')]"
      ]
     },
     "execution_count": 77,
     "metadata": {},
     "output_type": "execute_result"
    }
   ],
   "source": [
    "modelo.pairs"
   ]
  },
  {
   "cell_type": "code",
   "execution_count": 80,
   "metadata": {},
   "outputs": [
    {
     "data": {
      "text/plain": [
       "[<matplotlib.lines.Line2D at 0x15f095b3c70>]"
      ]
     },
     "execution_count": 80,
     "metadata": {},
     "output_type": "execute_result"
    },
    {
     "data": {
      "image/png": "[encoded data removed]",
      "text/plain": [
       "<Figure size 360x360 with 1 Axes>"
      ]
     },
     "metadata": {
      "needs_background": "light"
     },
     "output_type": "display_data"
    }
   ],
   "source": [
    "A = \"ASML\"\n",
    "B = \"INTU\"\n",
    "\n",
    "plt.figure(figsize=(5,5))\n",
    "plt.plot(modelo.df[A], c= 'orange')\n",
    "plt.plot(modelo.df[B], c='blue')"
   ]
  },
  {
   "cell_type": "code",
   "execution_count": 81,
   "metadata": {},
   "outputs": [
    {
     "data": {
      "text/plain": [
       "[<matplotlib.lines.Line2D at 0x15f095460d0>]"
      ]
     },
     "execution_count": 81,
     "metadata": {},
     "output_type": "execute_result"
    },
    {
     "data": {
      "image/png": "[encoded data removed]",
      "text/plain": [
       "<Figure size 360x360 with 1 Axes>"
      ]
     },
     "metadata": {
      "needs_background": "light"
     },
     "output_type": "display_data"
    }
   ],
   "source": [
    "plt.figure(figsize=(5,5))\n",
    "plt.plot((modelo.df[A]-np.min(modelo.df[A]))/(np.max(modelo.df[A]) - np.min(modelo.df[A])), c='orange')\n",
    "plt.plot((modelo.df[B]-np.min(modelo.df[B]))/(np.max(modelo.df[B]) - np.min(modelo.df[B])), c=\"blue\")\n"
   ]
  }
 ],
 "metadata": {
  "kernelspec": {
   "display_name": "Python 3 (ipykernel)",
   "language": "python",
   "name": "python3"
  },
  "language_info": {
   "codemirror_mode": {
    "name": "ipython",
    "version": 3
   },
   "file_extension": ".py",
   "mimetype": "text/x-python",
   "name": "python",
   "nbconvert_exporter": "python",
   "pygments_lexer": "ipython3",
   "version": "3.8.5"
  },
  "vscode": {
   "interpreter": {
    "hash": "f6f4be9d72399844def119e1df21845b2128ef712d8fcf4cd69986c1cd29c5be"
   }
  }
 },
 "nbformat": 4,
 "nbformat_minor": 4
}
