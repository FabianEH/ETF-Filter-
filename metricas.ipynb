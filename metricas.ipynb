{
 "cells": [
  {
   "cell_type": "markdown",
   "metadata": {
    "tags": []
   },
   "source": [
    "# Inicialización"
   ]
  },
  {
   "cell_type": "code",
   "execution_count": 1,
   "metadata": {},
   "outputs": [],
   "source": [
    "import numpy as np\n",
    "\n",
    "import pandas as pd\n",
    "from statsmodels.tsa.stattools import coint\n",
    "import matplotlib.pyplot as plt\n",
    "import yfinance as yf\n",
    "import datetime\n",
    "import seaborn as sns\n",
    "from scipy.stats import entropy\n",
    "from sklearn.metrics import mutual_info_score\n",
    "from Topological_Embedding import Tembedding"
   ]
  },
  {
   "cell_type": "code",
   "execution_count": 2,
   "metadata": {},
   "outputs": [],
   "source": [
    "\n",
    "'''  \n",
    "X <- Serie de tiempo de Ticker 1\n",
    "Y <- Serie de tiempo de Ticker 2\n",
    "'''\n",
    "\n",
    "def correlation_distance(X, Y):\n",
    "    cor = np.corrcoef(X,Y)[0,1]\n",
    "    metrica = np.sqrt(0.5*(1-cor))\n",
    "    return metrica\n",
    "\n",
    "'''  \n",
    "X <- Serie de tiempo de Ticker 1\n",
    "Y <- Serie de tiempo de Ticker 2\n",
    "bins <- Tamaño partición\n",
    "norm <- boolean False si las series no están normalizadas\n",
    "'''\n",
    "#---------------------------------------------------\n",
    "def varInfo(X,Y,bins,norm=False):\n",
    "    import numpy as np\n",
    "    # variation of information\n",
    "    cXY=np.histogram2d(X,Y,bins)[0]\n",
    "    iXY=mutual_info_score(None,None,contingency=cXY)\n",
    "    hX=entropy(np.histogram(X,bins)[0]) # marginal\n",
    "    hY=entropy(np.histogram(Y,bins)[0]) # marginal\n",
    "    vXY=hX+hY-2*iXY # variation of information\n",
    "    if norm:\n",
    "        hXY=hX+hY-iXY # joint\n",
    "        vXY/=hXY # normalized variation of information\n",
    "    return vXY"
   ]
  },
  {
   "cell_type": "code",
   "execution_count": 3,
   "metadata": {},
   "outputs": [],
   "source": [
    "start = datetime.date.today()-datetime.timedelta(days=45)\n",
    "end = datetime.date.today()\n",
    "\n",
    "tickers = ['ATVI', 'ADBE', 'AMD', 'ALGN', 'GOOG', 'GOOGL', 'AMZN', 'AMGN', 'ADI', 'AAPL', 'AMAT', 'ASML', 'ADSK',\n",
    "    'ADP','BIDU', 'BIIB', 'BMRN', 'BKNG', 'AVGO', 'CDNS', 'CDW', 'CERN', 'CHTR', 'CHKP', 'CTAS', 'CSCO', \n",
    "    'CTXS', 'CTSH', 'CMCSA', 'CPRT', 'COST', 'CSX', 'DXCM' ,'DOCU' ,'DLTR' ,'EBAY', 'EA' ,'EXC','EXPE','FB', \n",
    "    'FAST', 'FISV', 'FOX', 'FOXA', 'GILD', 'IDXX', 'ILMN', 'INCY', 'INTC', 'INTU', 'ISRG',\n",
    "    'JD', 'KLAC', 'LRCX', 'LBTYA', 'LULU', 'MAR', 'MELI', 'MCHP', 'MU', 'MSFT','MRNA', 'MDLZ', 'MNST', 'NTES', \n",
    "    'NFLX' ,'NVDA', 'NXPI', 'ORLY', 'PCAR', 'PAYX', 'PYPL', 'PEP', 'PDD', 'QCOM', 'REGN', 'ROST',\n",
    "    'SGEN', 'SIRI', 'SWKS', 'SPLK', 'SBUX', 'SNPS', 'TMUS', 'TTWO','TSLA', 'TXN', 'KHC', 'TCOM', \n",
    "    'ULTA', 'VRSN', 'VRSK', 'VRTX', 'WBA', 'WDC', 'WDAY', 'XEL', 'ZM']"
   ]
  },
  {
   "cell_type": "markdown",
   "metadata": {
    "tags": []
   },
   "source": [
    "# Filtro"
   ]
  },
  {
   "cell_type": "code",
   "execution_count": 4,
   "metadata": {},
   "outputs": [],
   "source": [
    "class paresTrading:\n",
    "\n",
    "    def __init__(self, tickers, start, end):\n",
    "\n",
    "        self.start = start\n",
    "\n",
    "        self.end = end\n",
    "\n",
    "        self.tickers = sorted(tickers)\n",
    "\n",
    "        # Descargar los datos y guardarlos en un dataframe que se llame self.df\n",
    "\n",
    "        self.df = yf.download(tickers, start, end)['Adj Close'].dropna()\n",
    "\n",
    "        self.data_filtration = self.df.copy()\n",
    "\n",
    "        self.pairs = []\n",
    "\n",
    "        for i in range(len(self.tickers)):\n",
    "            for j in range(i+1,len(self.tickers)):\n",
    "                self.pairs.append((self.tickers[i],self.tickers[j]))\n",
    "                \n",
    "    def TopologicalEmbedding(self, tol=100, lagtime=1):\n",
    "        \n",
    "        \n",
    "        topo = Tembedding(self.data_filtration)\n",
    "        \n",
    "        for pair in self.pairs:\n",
    "            resultado = topo.hausdorff(pair[0], pair[1])\n",
    "            if resultado > tol:\n",
    "                self.pairs.remove(pair)\n",
    "            \n",
    "        self.__filter_data()\n",
    "\n",
    "\n",
    "    def correlationTest(self, tol = 0.9):\n",
    "         \n",
    "\n",
    "        for pair in self.pairs:\n",
    "\n",
    "                resultado = np.corrcoef(self.data_filtration[pair[0]],self.data_filtration[pair[1]])[0,1]\n",
    "                if resultado < tol:\n",
    "\n",
    "                    self.pairs.remove(pair)\n",
    "            \n",
    "        self.__filter_data()\n",
    "\n",
    "\n",
    "\n",
    "    def cointegration(self, tol=0.1):\n",
    "\n",
    "        for pair in self.pairs:\n",
    "\n",
    "                resultado = coint(self.data_filtration[pair[0]], self.data_filtration[pair[1]])[1]\n",
    "\n",
    "                if resultado > tol:\n",
    "\n",
    "                    self.pairs.remove(pair)\n",
    "                    \n",
    "        self.__filter_data()\n",
    "        \n",
    "    \n",
    "    def distance_correlationTest(self, tol=0.3):\n",
    "        \n",
    "        for pair in self.pairs:\n",
    "            \n",
    "            resultado = correlation_distance(self.data_filtration[pair[0]], self.data_filtration[pair[1]])\n",
    "            \n",
    "            if resultado > tol:\n",
    "                self.pairs.remove(pair)\n",
    "                \n",
    "        self.__filter_data()\n",
    "   \n",
    "                \n",
    "\n",
    "\n",
    "    def variationalInformationTest(self, bins = 50, tol = 3.0):\n",
    "    \n",
    "        for pair in self.pairs:\n",
    "\n",
    "            resultado = varInfo(self.data_filtration[pair[0]],self.data_filtration[pair[1]], bins = bins)\n",
    "\n",
    "            if resultado > tol:\n",
    "\n",
    "                self.pairs.remove(pair)\n",
    "                \n",
    "        self.__filter_data()\n",
    "\n",
    "    \n",
    "    def clear_filter(self):\n",
    "\n",
    "        self.pairs = []\n",
    "        self.data_filtration = self.df.copy()\n",
    "\n",
    "        for i in range(len(self.tickers)):\n",
    "            for j in range(i+1,len(self.tickers)):\n",
    "                self.pairs.append((self.tickers[i],self.tickers[j]))\n",
    "            \n",
    "  \n",
    "    def __filter_data(self):\n",
    "    \n",
    "        unique_tickers = []\n",
    "        \n",
    "        for pair in self.pairs:\n",
    "            if pair[0] not in unique_tickers:\n",
    "                unique_tickers.append(pair[0])\n",
    "            if pair[1] not in unique_tickers:\n",
    "                unique_tickers.append(pair[1])\n",
    "        \n",
    "        self.data_filtration = self.data_filtration[unique_tickers]\n",
    "        \n",
    "    \n",
    "    def plot_correlation(self, method = 'pearson', *args):\n",
    "        plt.figure(figsize=(25,25))\n",
    "        sns.heatmap(self.data_filtration.corr(method = method), cmap = sns.cm.rocket, *args)\n",
    "        \n",
    "    def plot_variational_information(self, bins= 50, *args):\n",
    "        varinfo_matrix = np.zeros([self.data_filtration.shape[1], self.data_filtration.shape[1]])\n",
    "        for i in range(self.data_filtration.shape[1]):\n",
    "            for j in range(self.data_filtration.shape[1]):\n",
    "                varinfo_matrix[i,j] = varInfo(self.data_filtration.iloc[:,i], self.data_filtration.iloc[:,j], bins = 50)\n",
    "        varinfo_matrix = pd.DataFrame(varinfo_matrix, columns=self.data_filtration.columns)\n",
    "        \n",
    "        plt.figure(figsize=(25,25))\n",
    "        sns.heatmap(varinfo_matrix, cmap = sns.cm.rocket, xticklabels=self.tickers, yticklabels=self.tickers, *args)\n",
    "        \n",
    "    def plot_correlationDistance(self, method = 'pearson', *args):\n",
    "        \n",
    "        cor = self.data_filtration.corr(method='pearson')\n",
    "        metrica = np.sqrt(0.5*(1-cor))\n",
    "        plt.figure(figsize=(25,25))\n",
    "        sns.heatmap(metrica, cmap = sns.cm.rocket_r)\n",
    "        \n",
    "\n",
    "\n"
   ]
  },
  {
   "cell_type": "code",
   "execution_count": 5,
   "metadata": {},
   "outputs": [
    {
     "name": "stdout",
     "output_type": "stream",
     "text": [
      "[*********************100%***********************]  98 of 98 completed\n"
     ]
    }
   ],
   "source": [
    "modelo = paresTrading(tickers, start, end)\n",
    "\n",
    "#modelo.clear_filter()"
   ]
  },
  {
   "cell_type": "code",
   "execution_count": 59,
   "metadata": {},
   "outputs": [],
   "source": [
    "modelo.distance_correlationTest(tol=0.2)\n"
   ]
  },
  {
   "cell_type": "code",
   "execution_count": 60,
   "metadata": {},
   "outputs": [],
   "source": [
    "\n",
    "modelo.variationalInformationTest(tol = 0.1)\n"
   ]
  },
  {
   "cell_type": "code",
   "execution_count": 61,
   "metadata": {},
   "outputs": [],
   "source": [
    "modelo.cointegration(tol=0.3)\n"
   ]
  },
  {
   "cell_type": "code",
   "execution_count": 62,
   "metadata": {},
   "outputs": [],
   "source": [
    "modelo.TopologicalEmbedding(tol=80)\n"
   ]
  },
  {
   "cell_type": "code",
   "execution_count": 63,
   "metadata": {},
   "outputs": [
    {
     "data": {
      "text/plain": [
       "[('AMD', 'AMZN'),\n",
       " ('AMD', 'BIDU'),\n",
       " ('AMD', 'CHKP'),\n",
       " ('AMD', 'FAST'),\n",
       " ('BIDU', 'CDNS'),\n",
       " ('CDNS', 'TMUS'),\n",
       " ('CSX', 'DOCU'),\n",
       " ('CSX', 'PCAR'),\n",
       " ('EBAY', 'WBA'),\n",
       " ('FAST', 'PDD'),\n",
       " ('JD', 'PDD'),\n",
       " ('LULU', 'SNPS')]"
      ]
     },
     "execution_count": 63,
     "metadata": {},
     "output_type": "execute_result"
    }
   ],
   "source": [
    "modelo.pairs"
   ]
  },
  {
   "cell_type": "code",
   "execution_count": 57,
   "metadata": {},
   "outputs": [
    {
     "data": {
      "text/plain": [
       "[<matplotlib.lines.Line2D at 0x1585eb83040>]"
      ]
     },
     "execution_count": 57,
     "metadata": {},
     "output_type": "execute_result"
    },
    {
     "data": {
      "image/png": "[encoded data removed]",
      "text/plain": [
       "<Figure size 720x720 with 1 Axes>"
      ]
     },
     "metadata": {
      "needs_background": "light"
     },
     "output_type": "display_data"
    }
   ],
   "source": [
    "A = \"EBAY\"\n",
    "B = \"WBA\"\n",
    "\n",
    "plt.figure(figsize=(10,10))\n",
    "plt.plot(modelo.df[A], c= 'orange')\n",
    "plt.plot(modelo.df[B], c='blue')"
   ]
  },
  {
   "cell_type": "code",
   "execution_count": 58,
   "metadata": {},
   "outputs": [
    {
     "data": {
      "text/plain": [
       "[<matplotlib.lines.Line2D at 0x1585fd38220>]"
      ]
     },
     "execution_count": 58,
     "metadata": {},
     "output_type": "execute_result"
    },
    {
     "data": {
      "image/png": "[encoded data removed]",
      "text/plain": [
       "<Figure size 360x360 with 1 Axes>"
      ]
     },
     "metadata": {
      "needs_background": "light"
     },
     "output_type": "display_data"
    }
   ],
   "source": [
    "plt.figure(figsize=(5,5))\n",
    "plt.plot((modelo.df[A]-np.min(modelo.df[A]))/(np.max(modelo.df[A]) - np.min(modelo.df[A])), c='orange')\n",
    "plt.plot((modelo.df[B]-np.min(modelo.df[B]))/(np.max(modelo.df[B]) - np.min(modelo.df[B])), c=\"blue\")\n"
   ]
  }
 ],
 "metadata": {
  "kernelspec": {
   "display_name": "Python 3 (ipykernel)",
   "language": "python",
   "name": "python3"
  },
  "language_info": {
   "codemirror_mode": {
    "name": "ipython",
    "version": 3
   },
   "file_extension": ".py",
   "mimetype": "text/x-python",
   "name": "python",
   "nbconvert_exporter": "python",
   "pygments_lexer": "ipython3",
   "version": "3.8.5"
  },
  "vscode": {
   "interpreter": {
    "hash": "f6f4be9d72399844def119e1df21845b2128ef712d8fcf4cd69986c1cd29c5be"
   }
  }
 },
 "nbformat": 4,
 "nbformat_minor": 4
}
