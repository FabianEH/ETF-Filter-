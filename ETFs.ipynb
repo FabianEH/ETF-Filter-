{
 "cells": [
  {
   "cell_type": "code",
   "execution_count": null,
   "id": "02deb65f",
   "metadata": {},
   "outputs": [],
   "source": [
    "# Dependecias del Notebook\n",
    "import pandas as pd\n",
    "import numpy as np\n",
    "import pandas_datareader.data as data_web\n",
    "import datetime as dt\n",
    "import matplotlib.pyplot as plt\n",
    "import plotly.express as px\n",
    "import scipy\n",
    "from scipy.fft import fft, ifft\n",
    "import yfinance as yf"
   ]
  },
  {
   "cell_type": "code",
   "execution_count": null,
   "id": "a65dde10",
   "metadata": {},
   "outputs": [],
   "source": [
    "df = yf.download('AAPL')['Adj Close']\n",
    "df"
   ]
  },
  {
   "cell_type": "code",
   "execution_count": null,
   "id": "4cfeb3e0",
   "metadata": {},
   "outputs": [],
   "source": [
    "fig = px.line(df)\n",
    "fig.show()"
   ]
  },
  {
   "cell_type": "code",
   "execution_count": null,
   "id": "fd1408f9",
   "metadata": {},
   "outputs": [],
   "source": [
    "plt.psd(df)"
   ]
  },
  {
   "cell_type": "code",
   "execution_count": null,
   "id": "8c121492",
   "metadata": {},
   "outputs": [],
   "source": [
    "aapl = np.array(df)\n",
    "aapl"
   ]
  },
  {
   "cell_type": "code",
   "execution_count": null,
   "id": "a9359efb",
   "metadata": {},
   "outputs": [],
   "source": [
    "fft(aapl)\n"
   ]
  },
  {
   "cell_type": "code",
   "execution_count": null,
   "id": "06541eae",
   "metadata": {},
   "outputs": [],
   "source": [
    "x = [fft(aapl).real for _ in fft(aapl)]\n",
    "x"
   ]
  },
  {
   "cell_type": "code",
   "execution_count": null,
   "id": "b1e2894d",
   "metadata": {},
   "outputs": [],
   "source": [
    "x = [fft(aapl).real for _ in fft(aapl)]\n",
    "y = [fft(aapl).imag for _ in fft(aapl)]\n",
    "plt.scatter(x, y)\n",
    "plt.ylabel('Imaginary')\n",
    "plt.xlabel('Real')\n",
    "plt.show()"
   ]
  },
  {
   "cell_type": "code",
   "execution_count": null,
   "id": "18f3bc88",
   "metadata": {},
   "outputs": [],
   "source": []
  }
 ],
 "metadata": {
  "kernelspec": {
   "display_name": "Python 3 (ipykernel)",
   "language": "python",
   "name": "python3"
  },
  "language_info": {
   "codemirror_mode": {
    "name": "ipython",
    "version": 3
   },
   "file_extension": ".py",
   "mimetype": "text/x-python",
   "name": "python",
   "nbconvert_exporter": "python",
   "pygments_lexer": "ipython3",
   "version": "3.9.7"
  }
 },
 "nbformat": 4,
 "nbformat_minor": 5
}
